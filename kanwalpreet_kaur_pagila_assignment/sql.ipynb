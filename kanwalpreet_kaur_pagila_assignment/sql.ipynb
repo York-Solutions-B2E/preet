{
 "cells": [
  {
   "cell_type": "markdown",
   "metadata": {},
   "source": [
    "SQL queries in PG admin\n",
    "SELECT first_name || ' ' || last_name AS full_name\n",
    "FROM actor;\n",
    "\n",
    "\n",
    "\n",
    "Select upper(first_name || ' ' || last_name) from actor where last_name like '%LI%' ;\n",
    "\n",
    "SELECT last_name, COUNT(*) AS namecount\n",
    "FROM actor\n",
    "GROUP BY last_name;\n",
    "\n",
    "\n",
    "\n",
    "Select staff.first_name,staff.last_name,address.address,address.address2,address.district,\n",
    "address.city_id,address.postal_code,sum(payment.amount)\n",
    "from staff\n",
    "join address on staff.address_id=address.address_id\n",
    "join payment on staff.staff_id=payment.staff_id \n",
    "Group by staff.first_name,staff.last_name,address.address,address.address2,address.district,\n",
    "address.city_id,address.postal_code;\n",
    "\n",
    "Select film.title,actor.first_name,actor.last_name\n",
    "from film_actor\n",
    "join film on film_actor.film_id= film.film_id\n",
    "join actor on film_actor.actor_id=actor.actor_id\n",
    "where title ='ALONE TRIP';\n",
    "\n",
    "SELECT customer_id, SUM(amount) as total_amount\n",
    "FROM payment\n",
    "GROUP BY customer_id\n",
    "ORDER BY total_amount DESC;\n",
    "\n",
    "\n",
    "Select customer.store_id, count(rental_id) as rental_count from customer\n",
    "join rental on customer.customer_id= rental.customer_id \n",
    "join inventory on rental.inventory_id =inventory.inventory_id\n",
    "join film_category on inventory.film_id = film_category.film_id \n",
    "join category on film_category.category_id =category.category_id where  category.name= 'Family' \n",
    "group by customer.store_id  order by rental_count desc ;\n"
   ]
  }
 ],
 "metadata": {
  "language_info": {
   "name": "python"
  }
 },
 "nbformat": 4,
 "nbformat_minor": 2
}
