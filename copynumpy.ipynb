{
 "cells": [
  {
   "cell_type": "code",
   "execution_count": 1,
   "metadata": {},
   "outputs": [
    {
     "name": "stdout",
     "output_type": "stream",
     "text": [
      "[ 1  2  3  4  5  6  7  8  9 10]\n",
      "55\n",
      "5.5\n",
      "[ 3  6  9 12 15 18 21 24 27 30]\n",
      "[3 4 5 6 7]\n",
      "25\n",
      "5.0\n"
     ]
    }
   ],
   "source": [
    "import numpy as np\n",
    "a=np.array([1,2,3,4,5,6,7,8,9,10])\n",
    "arr_sum=np.sum(a)\n",
    "arr_avg=np.mean(a)\n",
    "arr_multiply=3*a\n",
    "arr_slice=a[2:7]\n",
    "arr_sum_slice=np.sum(arr_slice)\n",
    "arr_avg_mean=np.mean(arr_slice)\n",
    "print(a)\n",
    "print(arr_sum)\n",
    "print(arr_avg)\n",
    "print(arr_multiply)\n",
    "print(arr_slice)\n",
    "print(arr_sum_slice)\n",
    "print(arr_avg_mean)\n",
    "\n",
    "\n"
   ]
  },
  {
   "cell_type": "code",
   "execution_count": 2,
   "metadata": {},
   "outputs": [
    {
     "name": "stdout",
     "output_type": "stream",
     "text": [
      "8\n",
      "[6 7 8]\n",
      "[4 7 1]\n",
      "[[3 6 9]\n",
      " [4 7 1]\n",
      " [5 8 2]]\n"
     ]
    }
   ],
   "source": [
    "import numpy as np\n",
    "arr=np.array([[3,4,5],[6,7,8],[9,1,2]])\n",
    "print(arr[1,2])\n",
    "print(arr[1,])\n",
    "print(arr[:,1])\n",
    "print(arr.transpose())\n",
    "\n"
   ]
  },
  {
   "cell_type": "code",
   "execution_count": 3,
   "metadata": {},
   "outputs": [
    {
     "name": "stdout",
     "output_type": "stream",
     "text": [
      "[ 5  1  4  2  6 10 11  7]\n",
      "[ 1  2  4  5  6  7 10 11]\n",
      "[1 2 4 5]\n",
      "[ 6  7 10 11]\n"
     ]
    }
   ],
   "source": [
    "import numpy as np\n",
    "arr1=np.array([5,1,4,2])\n",
    "arr2=np.array([6,10,11,7])\n",
    "arr3=np.concatenate((arr1,arr2),axis=0) \n",
    "sorted=np.sort(arr3.flatten())\n",
    "array1,array2=np.split(sorted,2,axis=-1)\n",
    "print(arr3)\n",
    "print(sorted)\n",
    "print(array1)\n",
    "print(array2)\n",
    "\n"
   ]
  },
  {
   "cell_type": "code",
   "execution_count": 4,
   "metadata": {},
   "outputs": [
    {
     "name": "stdout",
     "output_type": "stream",
     "text": [
      "[ 0.          1.57079633  3.14159265  4.71238898  6.28318531  7.85398163\n",
      "  9.42477796 10.99557429 12.56637061]\n",
      "[ 0.0000000e+00  1.0000000e+00  1.2246468e-16 -1.0000000e+00\n",
      " -2.4492936e-16  1.0000000e+00  3.6739404e-16 -1.0000000e+00\n",
      " -4.8985872e-16]\n",
      "[ 1.0000000e+00  6.1232340e-17 -1.0000000e+00 -1.8369702e-16\n",
      "  1.0000000e+00  3.0616170e-16 -1.0000000e+00 -4.2862638e-16\n",
      "  1.0000000e+00]\n",
      "[      -inf 0.45158271 1.14472989 1.55019499 1.83787707 2.06102062\n",
      " 2.24334217 2.39749285 2.53102425]\n",
      "[1.00000000e+00 4.81047738e+00 2.31406926e+01 1.11317778e+02\n",
      " 5.35491656e+02 2.57597050e+03 1.23916478e+04 5.96097415e+04\n",
      " 2.86751313e+05]\n",
      "-2.975712385932333e-17\n",
      "0.11111111111111106\n",
      "-inf\n",
      "40222.7148375631\n",
      "0.0\n",
      "6.123233995736766e-17\n",
      "1.8378770664093453\n",
      "535.4916555247646\n",
      "0.6666666666666666\n",
      "0.11111111111111106\n",
      "-inf\n",
      "89056.36419225672\n"
     ]
    },
    {
     "name": "stderr",
     "output_type": "stream",
     "text": [
      "/var/folders/1l/ksmwxq4x3_19hzyb8w75g4c80000gn/T/ipykernel_26775/759102923.py:8: RuntimeWarning: divide by zero encountered in log\n",
      "  log_values=np.log(array)\n",
      "/Library/Frameworks/Python.framework/Versions/3.12/lib/python3.12/site-packages/numpy/core/_methods.py:173: RuntimeWarning: invalid value encountered in subtract\n",
      "  x = asanyarray(arr - arrmean)\n"
     ]
    }
   ],
   "source": [
    "import numpy as np\n",
    "array=np.arange(0,4* np.pi+ np.pi/2,np.pi/2)\n",
    "print(array)\n",
    "sin_values=np.sin(array)\n",
    "print(sin_values)\n",
    "cos_values=np.cos(array)\n",
    "print(cos_values)\n",
    "log_values=np.log(array)\n",
    "print(log_values)\n",
    "exp_values=np.exp(array)\n",
    "print(exp_values)\n",
    "mean_sin=np.mean(sin_values)\n",
    "print(mean_sin)\n",
    "mean_cos=np.mean(cos_values)\n",
    "print(mean_cos)\n",
    "mean_log=np.mean(log_values)\n",
    "print(mean_log)\n",
    "mean_exp=np.mean(exp_values)\n",
    "print(mean_exp)\n",
    "med_sin=np.median(sin_values)\n",
    "print(med_sin)\n",
    "med_cos=np.median(cos_values)\n",
    "print(med_cos)\n",
    "med_log=np.median(log_values)\n",
    "print(med_log)\n",
    "med_exp=np.median(exp_values)\n",
    "print(med_exp)\n",
    "std_sin=np.std(sin_values)\n",
    "print(std_sin)\n",
    "std_cos=np.std(cos_values)\n",
    "print(mean_cos)\n",
    "std_log=np.std(log_values)\n",
    "print(mean_log)\n",
    "std_exp=np.std(exp_values)\n",
    "print(std_exp)\n"
   ]
  },
  {
   "cell_type": "code",
   "execution_count": 5,
   "metadata": {},
   "outputs": [
    {
     "name": "stdout",
     "output_type": "stream",
     "text": [
      "[15 20 25 30 35 40 45 50 55 60 65 70 75 80]\n",
      "[False False False  True  True  True  True  True  True  True  True  True\n",
      "  True  True]\n",
      "[30 35 40 45 50 55 60 65 70 75 80]\n"
     ]
    }
   ],
   "source": [
    "import numpy as np\n",
    "arr=np.arange(15,81,5)\n",
    "print(arr)\n",
    "arr_25=arr>25\n",
    "print(arr_25)\n",
    "print(arr[arr>25])\n",
    "\n"
   ]
  }
 ],
 "metadata": {
  "kernelspec": {
   "display_name": "Python 3",
   "language": "python",
   "name": "python3"
  },
  "language_info": {
   "codemirror_mode": {
    "name": "ipython",
    "version": 3
   },
   "file_extension": ".py",
   "mimetype": "text/x-python",
   "name": "python",
   "nbconvert_exporter": "python",
   "pygments_lexer": "ipython3",
   "version": "3.12.0"
  }
 },
 "nbformat": 4,
 "nbformat_minor": 2
}
